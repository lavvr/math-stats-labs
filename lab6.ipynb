{
 "cells": [
  {
   "cell_type": "markdown",
   "id": "e3c30f09",
   "metadata": {},
   "source": [
    "### 1.1 \n",
    "Сгенерировать выборку X объемом 500 величин, подчиняющихся распределениям Гаусса с параметрами 3, 5 (N(3; 5))\n",
    "Проверить критерий отсутствия \"сдвига дисперсии\""
   ]
  },
  {
   "cell_type": "code",
   "execution_count": 111,
   "id": "36a11040",
   "metadata": {},
   "outputs": [],
   "source": [
    "import numpy as np\n",
    "import scipy.stats as sps\n",
    "\n",
    "def build_gauss(mean=3, var=5, size=500):\n",
    "    return np.random.normal(loc=mean, scale=np.sqrt(var), size=size)\n",
    "\n",
    "def build_cauchy(loc=0, scale=1, size=500):\n",
    "    return sps.cauchy(loc=loc, scale=scale).rvs(size=size)"
   ]
  },
  {
   "cell_type": "code",
   "execution_count": 112,
   "id": "dbe56445",
   "metadata": {},
   "outputs": [],
   "source": [
    "def hsu_criterion(x):\n",
    "    median = np.median(x)\n",
    "    n = len(x)\n",
    "    stats = np.sum([(i-1)*(x[i] - median) ** 2 for i in range(n)]) \\\n",
    "            / ((n - 1) * np.sum((x - median) ** 2))\n",
    "    \n",
    "    stats = (stats - 0.5) * np.sqrt(6 * (n - 1) * (n + 2) / (n + 1))\n",
    "\n",
    "    p_value = 2 * (1 - sps.norm.cdf(np.abs(stats)))\n",
    "\n",
    "    q = sps.norm.ppf(0.025)\n",
    "    \n",
    "    if stats < q or stats > -q:\n",
    "        print(f\"Decline H0, pvalue = {p_value}, q = {q}, stats = {stats}\")\n",
    "    \n",
    "    else:\n",
    "        print(f\"Accept H0, pvalue = {p_value}, q = {q}, stats = {stats}\")\n",
    "    "
   ]
  },
  {
   "cell_type": "code",
   "execution_count": 113,
   "id": "1786908e",
   "metadata": {},
   "outputs": [
    {
     "name": "stdout",
     "output_type": "stream",
     "text": [
      "1.1\n",
      "Accept H0, pvalue = 0.4746761912084909, q = -1.9599639845400545, stats = -0.7148913357248162\n"
     ]
    }
   ],
   "source": [
    "print(\"1.1\")\n",
    "hsu_criterion(build_gauss())"
   ]
  },
  {
   "cell_type": "markdown",
   "id": "934bae57",
   "metadata": {},
   "source": [
    "### 1.2 \n",
    "Половина выборки из пункта 1.1, вторая половина:\n",
    "А) Гаусс 3,10\n",
    "Б) Гаусс 3,6\n",
    "Тот же критерий"
   ]
  },
  {
   "cell_type": "code",
   "execution_count": 114,
   "id": "782aa90c",
   "metadata": {},
   "outputs": [
    {
     "name": "stdout",
     "output_type": "stream",
     "text": [
      "1.2 A)\n",
      "Decline H0, pvalue = 5.8651408174625885e-09, q = -1.9599639845400545, stats = 5.820558216822116\n",
      "1.2 Б)\n",
      "Accept H0, pvalue = 0.0775780436500475, q = -1.9599639845400545, stats = 1.7649150515705525\n"
     ]
    }
   ],
   "source": [
    "X_a = np.concatenate([build_gauss(size=250), build_gauss(var=10, size=250)])\n",
    "X_b = np.concatenate([build_gauss(size=250), build_gauss(var=6, size=250)])\n",
    "\n",
    "print(\"1.2 A)\")\n",
    "hsu_criterion(X_a)\n",
    "\n",
    "print(\"1.2 Б)\")\n",
    "hsu_criterion(X_b)"
   ]
  },
  {
   "cell_type": "markdown",
   "id": "44fe7340",
   "metadata": {},
   "source": [
    "### 2.1 \n",
    "Cтандартная гауссовская (0,1) выборка объемом 195 + 5 выбросов (-4,-3,2.99,3.3,5) \n",
    "Проверить правило 3 сигм "
   ]
  },
  {
   "cell_type": "code",
   "execution_count": 115,
   "id": "c5970976",
   "metadata": {},
   "outputs": [],
   "source": [
    "def three_sigma_rule(x):\n",
    "    outliers = []\n",
    "    n = len(x)\n",
    "    dev = np.std(x, ddof=n - 1)\n",
    "\n",
    "    for elem in x:\n",
    "        if elem < -3 or elem > 3:\n",
    "            outliers.append(elem)\n",
    "\n",
    "    return outliers\n",
    "\n",
    " "
   ]
  },
  {
   "cell_type": "code",
   "execution_count": 116,
   "id": "1382b1ee",
   "metadata": {},
   "outputs": [
    {
     "name": "stdout",
     "output_type": "stream",
     "text": [
      "2.1\n",
      "Outliers: -3.345535888451954, -4.0, 3.3, 5.0\n"
     ]
    }
   ],
   "source": [
    "x_0 = np.concatenate([build_gauss(mean=0, var=1, size = 195), [-4,-3,2.99,3.3,5]])\n",
    "out = three_sigma_rule(x_0)\n",
    "\n",
    "print(\"2.1\")\n",
    "print(\"Outliers:\", ', '.join([str(elem) for elem in out])) if out else print(\"No outliers were caught\")\n",
    "\n"
   ]
  },
  {
   "cell_type": "markdown",
   "id": "58e48471",
   "metadata": {},
   "source": [
    "### 2.2 \n",
    "То же самое, только проверить боксплот тьюки"
   ]
  },
  {
   "cell_type": "code",
   "execution_count": 117,
   "id": "cb75eacb",
   "metadata": {},
   "outputs": [],
   "source": [
    "def boxplot_tuky(x):\n",
    "    lq = np.quantile(x, 0.25)\n",
    "    uq = np.quantile(x, 0.75)\n",
    "\n",
    "    iqr = uq - lq\n",
    "    xl = lq - 1.5 * iqr\n",
    "    xu = uq + 1.5 * iqr\n",
    "\n",
    "    outliers = []\n",
    "    for elem in x:\n",
    "        if elem < xl or elem > xu:\n",
    "            outliers.append(elem)\n",
    "            \n",
    "    return outliers"
   ]
  },
  {
   "cell_type": "code",
   "execution_count": 118,
   "id": "8c8889d1",
   "metadata": {},
   "outputs": [
    {
     "name": "stdout",
     "output_type": "stream",
     "text": [
      "2.2\n",
      "Outliers: -3.345535888451954, -4.0, -3.0, 2.99, 3.3, 5.0\n"
     ]
    }
   ],
   "source": [
    "out = boxplot_tuky(x_0)\n",
    "\n",
    "print(\"2.2\")\n",
    "print(\"Outliers:\", ', '.join([str(elem) for elem in out])) if out else print(\"No outliers were caught\")"
   ]
  },
  {
   "cell_type": "markdown",
   "id": "454d0f73",
   "metadata": {},
   "source": [
    "### 3. Робастные статистики \n",
    "Вычислить среднее, медиану, коэффициент  Хубера, двухэтапную оценку (убрать выбросы и вычислить среднее) для следующих выборок объема 500\n",
    "\n",
    "3.1 стандартный Гаусс (0,1)\n",
    "3.2 Коши\n",
    "3.3 стандартный Гаусс (0,1) + Коши * 0.1"
   ]
  },
  {
   "cell_type": "code",
   "execution_count": 119,
   "id": "c0366ada",
   "metadata": {},
   "outputs": [],
   "source": [
    "def two_stage_value(x, outliers, type):\n",
    "\n",
    "    mean = np.mean(x)\n",
    "    median = np.median(x)\n",
    "    new_x = []\n",
    "    for elem in x:\n",
    "        if elem not in outliers:\n",
    "            new_x.append(elem)\n",
    "    mean_wout_outliers = np.mean(new_x)\n",
    "    x = [np.sign(elem) if elem >= 2.5 or elem <= -2.5 else elem for elem in x]\n",
    "    huber = np.mean(x)#np.mean(x[x < 2.5]) + np.median(x[x >= 2.5])\n",
    "    \n",
    "    print(type)\n",
    "    print(\"Mean:\", mean)\n",
    "    print(\"Median:\", median)\n",
    "    print(\"Huber\", huber)\n",
    "    print(\"Mean wout outliers\", mean_wout_outliers)\n",
    "    "
   ]
  },
  {
   "cell_type": "code",
   "execution_count": 120,
   "id": "a17aa40a",
   "metadata": {},
   "outputs": [
    {
     "name": "stdout",
     "output_type": "stream",
     "text": [
      "3.1\n",
      "N(0,1)\n",
      "Mean: -0.023611608518862154\n",
      "Median: -0.0012255891905428198\n",
      "Huber -0.019059153277479424\n",
      "Mean wout outliers -0.017231467957049922\n",
      "3.2\n",
      "Cauchy\n",
      "Mean: -9.622754080697232\n",
      "Median: -0.05710874678487949\n",
      "Huber -0.02033741407174154\n",
      "Mean wout outliers -0.061983755766708816\n",
      "3.3\n",
      "N(0,1) + Cauchy * 0.1\n",
      "Mean: -0.9858870165885852\n",
      "Median: -0.06472012220176879\n",
      "Huber -0.04744151281185056\n",
      "Mean wout outliers -0.042164677113336546\n"
     ]
    }
   ],
   "source": [
    "print(\"3.1\")\n",
    "x = build_gauss(mean=0, var=1, size=500)\n",
    "out = boxplot_tuky(x)\n",
    "new_x = []\n",
    "two_stage_value(x, out, \"N(0,1)\")\n",
    "\n",
    "print(\"3.2\")\n",
    "x_cauchy = build_cauchy()\n",
    "out = boxplot_tuky(x_cauchy)\n",
    "two_stage_value(x_cauchy, out, \"Cauchy\")\n",
    "\n",
    "print(\"3.3\")\n",
    "out = boxplot_tuky(x + 0.1 * x_cauchy)\n",
    "two_stage_value(x + 0.1 * x_cauchy, out, \"N(0,1) + Cauchy * 0.1\")"
   ]
  }
 ],
 "metadata": {
  "kernelspec": {
   "display_name": "base",
   "language": "python",
   "name": "python3"
  },
  "language_info": {
   "codemirror_mode": {
    "name": "ipython",
    "version": 3
   },
   "file_extension": ".py",
   "mimetype": "text/x-python",
   "name": "python",
   "nbconvert_exporter": "python",
   "pygments_lexer": "ipython3",
   "version": "3.12.2"
  }
 },
 "nbformat": 4,
 "nbformat_minor": 5
}
