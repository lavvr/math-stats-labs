{
 "cells": [
  {
   "cell_type": "markdown",
   "id": "727211d3",
   "metadata": {},
   "source": [
    "### 1.1\n",
    "Сгенерировать выборки X и Y объемом 500 величин, подчиняющихся распределениям Гаусса с параметрами N(3,15) и N(3,30) соответственно\n",
    "Проверить критерием знаков гипотезу H0{\"X - Y = 0\"}"
   ]
  },
  {
   "cell_type": "code",
   "execution_count": 878,
   "id": "943a03d0",
   "metadata": {},
   "outputs": [],
   "source": [
    "import numpy as np\n",
    "import scipy.stats as sps\n"
   ]
  },
  {
   "cell_type": "code",
   "execution_count": 879,
   "id": "c3dc2014",
   "metadata": {},
   "outputs": [],
   "source": [
    "\n",
    "def build_gauss(mean, var, size):\n",
    "    return sps.norm(mean,np.sqrt(var)).rvs(size)\n",
    "\n",
    "\n",
    "def sign_test(x, y):\n",
    "\n",
    "    plus = np.sum(x > y) \n",
    "    minus = np.sum(x < y)  \n",
    "\n",
    "    n = plus + minus   \n",
    "    w = min(plus, minus) \n",
    "    stats = (w - n/2) / np.sqrt(n/4)\n",
    "    \n",
    "    pvalue = sps.binomtest(plus, n).pvalue\n",
    "    stats_scipy = sps.binomtest(plus, n).statistic\n",
    "\n",
    "    if pvalue < 0.05:\n",
    "        print(f'Decline H0, pvalue = {pvalue}, stats = {stats}, stats_scipy = {stats_scipy}')\n",
    "\n",
    "    else:\n",
    "        print(f'Accept H0, pvalue = {pvalue}, stats = {stats}, stats_scipy = {stats_scipy}')\n",
    "\n"
   ]
  },
  {
   "cell_type": "code",
   "execution_count": 880,
   "id": "1f263314",
   "metadata": {},
   "outputs": [
    {
     "name": "stdout",
     "output_type": "stream",
     "text": [
      "1.1: N(3,15), N(3,30):\n",
      "Accept H0, pvalue = 1.0, stats = 0.0, stats_scipy = 0.5\n"
     ]
    }
   ],
   "source": [
    "#np.random.seed(333)\n",
    "X = build_gauss(3,15,500)\n",
    "Y = build_gauss(3,30,500)\n",
    "\n",
    "print('1.1: N(3,15), N(3,30):')\n",
    "sign_test(X,Y)"
   ]
  },
  {
   "cell_type": "markdown",
   "id": "ab336b38",
   "metadata": {},
   "source": [
    "### 1.2\n",
    "Сгенерировать выборки X и Y объемом 500 величин, подчиняющихся распределениям Гаусса с параметрами N(3,15) и N(3.3,30) соответственно"
   ]
  },
  {
   "cell_type": "code",
   "execution_count": 881,
   "id": "7b6292fc",
   "metadata": {},
   "outputs": [
    {
     "name": "stdout",
     "output_type": "stream",
     "text": [
      "1.2 N(3,15), N(3.3,30):\n",
      "Decline H0, pvalue = 4.2843741010351617e-29, stats = -11.001454449298965, stats_scipy = 0.746\n"
     ]
    }
   ],
   "source": [
    "X = build_gauss(3,15,500)\n",
    "Y_new = build_gauss(-1 ,30,500)\n",
    "\n",
    "print('1.2 N(3,15), N(3.3,30):')\n",
    "sign_test(X,Y_new)"
   ]
  },
  {
   "cell_type": "markdown",
   "id": "ac2f05f0",
   "metadata": {},
   "source": [
    "### 2.1, 2.2 \n",
    "Аналогично с ранговыми критериями (4 ранга)"
   ]
  },
  {
   "cell_type": "code",
   "execution_count": 882,
   "id": "8e719162",
   "metadata": {},
   "outputs": [],
   "source": [
    "def wilcoxon_test_scipy(x, y):\n",
    "    dif = x - y\n",
    "    dif = dif[dif!=0]\n",
    "    stats, pvalue = sps.wilcoxon(dif)\n",
    "\n",
    "    if pvalue < 0.05:\n",
    "        print(f'Decline H0, pvalue = {pvalue}, stats_scipy = {stats}')\n",
    "    else:\n",
    "        print(f'Accept H0, pvalue = {pvalue}, stats_scipy = {stats}')"
   ]
  },
  {
   "cell_type": "code",
   "execution_count": 883,
   "id": "c2a78a14",
   "metadata": {},
   "outputs": [
    {
     "name": "stdout",
     "output_type": "stream",
     "text": [
      "2.1 N(3,15), N(3,30)\n",
      "Accept H0, pvalue = 0.9600278040882478, stats_scipy = 62463.0\n",
      "\n",
      "2.1 N(3,15), N(3.3,30)\n",
      "Decline H0, pvalue = 5.214105045074739e-34, stats_scipy = 23327.0\n"
     ]
    }
   ],
   "source": [
    "print('2.1 N(3,15), N(3,30)')\n",
    "wilcoxon_test_scipy(X,Y)\n",
    "\n",
    "print('\\n2.1 N(3,15), N(3.3,30)')\n",
    "wilcoxon_test_scipy(X,Y_new)"
   ]
  },
  {
   "cell_type": "code",
   "execution_count": 884,
   "id": "bc018897",
   "metadata": {},
   "outputs": [],
   "source": [
    "\n",
    "def wilcoxon_test(x, y):\n",
    "\n",
    "    d = x - y\n",
    "    signs = np.sign(d)\n",
    "    d = abs(d[d!=0])\n",
    "    indxs = np.argsort(d)\n",
    "    d = d[indxs]\n",
    "    signs = signs[indxs]\n",
    "   \n",
    "    n = len(d)\n",
    "    ranks2 = sps.rankdata(d)\n",
    "    indxs = np.argsort(sps.rankdata(d))\n",
    "    signs = signs[indxs]\n",
    "    #print(signs)\n",
    "    \n",
    "    #print(ranks2)\n",
    "    stats = np.sum(ranks2 * signs) / np.sqrt(((n + 1) * (2*n + 1) * n)/6)\n",
    "\n",
    "    l = sps.norm.ppf(0.025)\n",
    "    r = sps.norm.ppf(0.0975)\n",
    "    pvalue = 2 * (1 - sps.norm.cdf(np.abs(stats)))\n",
    "    \n",
    "    if pvalue < 0.05 or l > stats  or stats > -l:\n",
    "        print(f'Decline H0, pvalue = {pvalue}, stats = {stats}')\n",
    "    else:\n",
    "        print(f'Accept H0, pvalue = {pvalue}, stats = {stats}')\n",
    "\n"
   ]
  },
  {
   "cell_type": "code",
   "execution_count": 885,
   "id": "58309d74",
   "metadata": {},
   "outputs": [
    {
     "name": "stdout",
     "output_type": "stream",
     "text": [
      "2.1 N(3,15), N(3,30)\n",
      "Accept H0, pvalue = 0.960027804088248, stats = -0.050118692383726286\n",
      "\n",
      "2.1 N(3,15), N(3.3,30)\n",
      "Decline H0, pvalue = 0.0, stats = 12.157804773430097\n"
     ]
    }
   ],
   "source": [
    "print('2.1 N(3,15), N(3,30)')\n",
    "wilcoxon_test(X,Y)\n",
    "\n",
    "print('\\n2.1 N(3,15), N(3.3,30)')\n",
    "wilcoxon_test(X,Y_new)"
   ]
  },
  {
   "cell_type": "markdown",
   "id": "d927d233",
   "metadata": {},
   "source": [
    "### 3.1 \n",
    "Сгенерировать выборку X объемом 600 величин, подчиняющихся распределениям Гаусса с параметрами 5, 7 (N(5; 7))\n",
    "### 3.2\n",
    "Взять тот же X и сделать Y = 2X - 5 + eps, eps ~ N(0,1)\n",
    "Повторить то же самое + сравнить Кендела и Пирсона\n",
    "### 3.3\n",
    "X те же, Y = 0.01 * X + eps, eps ~ N(0,1)\n",
    "Повторить то же самое + сравнить Кендела и Пирсона"
   ]
  },
  {
   "cell_type": "code",
   "execution_count": 886,
   "id": "b59dcd44",
   "metadata": {},
   "outputs": [],
   "source": [
    "def candal(x,y):\n",
    "\n",
    "    n = len(x)\n",
    "    coef_sum = coef_sum = [(np.sign(x[i] - x[j]) * (np.sign(y[i] - y[j]))) \n",
    "                           for i in range(n) for j in range(i+1, n)]\n",
    "    tot_sum = np.sum(coef_sum)\n",
    "\n",
    "    r = (2 / (n * (n - 1))) * tot_sum\n",
    "    var = np.sqrt((2 * (2 * n + 5)) / (9 * n * (n - 1)))\n",
    "\n",
    "    stats = r / var\n",
    "    q = sps.norm.ppf(0.025)\n",
    "    pvalue_candal = 2 * (1 - sps.norm.cdf(np.abs(stats)))\n",
    "\n",
    "    pearson = np.corrcoef(x,y)[0,1]\n",
    "    stats_pearson = np.sqrt(n - 2) * pearson/np.sqrt(1 - pearson ** 2)\n",
    "    pvalue_pearson = 2 * (1 - sps.t.cdf(abs(stats_pearson), df=n-2))\n",
    "    q_t = sps.t.ppf(0.025, df=n-2)\n",
    "\n",
    "    if  pvalue_candal < 0.05 or q > stats  or stats < q or stats > -q:\n",
    "        print(f'Candal: Decline H0, pvalue = {pvalue_candal}, stats = {stats}')\n",
    "\n",
    "    else:\n",
    "        print(f'Candal: Accept H0, pvalue = {pvalue_candal}, stats = {stats}')\n",
    "\n",
    "    if  pvalue_pearson < 0.05 or q_t > stats  or stats_pearson < q_t or stats_pearson > -q_t:\n",
    "        print(f'Pearson: Decline H0, pvalue = {pvalue_pearson}, stats = {stats_pearson}')\n",
    "\n",
    "    else:\n",
    "        print(f'Pearson: Accept H0, pvalue = {pvalue_pearson}, stats = {stats_pearson}')\n",
    "\n",
    "\n"
   ]
  },
  {
   "cell_type": "code",
   "execution_count": 887,
   "id": "63059943",
   "metadata": {},
   "outputs": [
    {
     "name": "stdout",
     "output_type": "stream",
     "text": [
      "3.1 N(5,7) 600 элементов, на две части:\n",
      "\n"
     ]
    },
    {
     "name": "stdout",
     "output_type": "stream",
     "text": [
      "Candal: Accept H0, pvalue = 0.18150516383005044, stats = -1.3361349634646227\n",
      "Pearson: Accept H0, pvalue = 0.14991276437517054, stats = -1.4435615309405148\n",
      "\n",
      "3.2 N(5,7) Y = 2*X - 5 + eps, на две части:\n",
      "\n",
      "Candal: Accept H0, pvalue = 0.2011556558515868, stats = -1.2782659884112393\n",
      "Pearson: Accept H0, pvalue = 0.1465844056439094, stats = -1.4535906738897\n"
     ]
    }
   ],
   "source": [
    "X = build_gauss(5,7,600)\n",
    "\n",
    "x1, x2 = np.array_split(X,2)\n",
    "print('3.1 N(5,7) 600 элементов, на две части:\\n')\n",
    "candal(x1,x2)\n",
    "\n",
    "Y = 0.001 * X - 5 + build_gauss(0, 1, 600)\n",
    "print('\\n3.2 N(5,7) Y = 2*X - 5 + eps, на две части:\\n')\n",
    "candal(X,Y)"
   ]
  },
  {
   "cell_type": "markdown",
   "id": "ccd46b84",
   "metadata": {},
   "source": [
    "### 4.1 \n",
    "Сгенерировать выборку X объемом 500 величин, подчиняющихся распределениям Гаусса с параметрами 3, 4 (N(3; 4))\n",
    "Проверить критерий отсутствия автокорреляции\n",
    "### 4.2\n",
    "Взять тот же Х, первый элемент выборки оставить тем же, остальные X_j = X_j - 2 * X_j-1 + eps, eps ~ N(0,1)\n",
    "Проверить критерий отсутствия автокорреляции"
   ]
  },
  {
   "cell_type": "code",
   "execution_count": 888,
   "id": "7ac94633",
   "metadata": {},
   "outputs": [],
   "source": [
    "def check_autocorr(x):\n",
    "    n = len(x)\n",
    "    coef_sum = np.sum([x[i]*x[i+1] for i in range(n - 1)])\n",
    "\n",
    "    t = n * coef_sum - (np.sum(x) ** 2) + n * x[0] * x[n - 1]\n",
    "    t /= n * np.sum(x ** 2) - (np.sum(x)) ** 2\n",
    "\n",
    "    stats = (t + 1 / (n - 1)) / np.sqrt((n * (n - 3)) / ((n + 1) * ((n - 2) ** 2)))\n",
    "\n",
    "    q = sps.norm.ppf(0.025)\n",
    "\n",
    "    pvalue = 2 * (1 - sps.norm.cdf(np.abs(stats)))\n",
    "\n",
    "    if pvalue < 0.05 or q > stats  or stats > -q:\n",
    "        print(f'Decline H0, pvalue = {pvalue}, stats = {stats}')\n",
    "        \n",
    "    else:\n",
    "        print(f'Accept H0, pvalue = {pvalue}, stats = {stats}') "
   ]
  },
  {
   "cell_type": "code",
   "execution_count": 889,
   "id": "c8c71ebc",
   "metadata": {},
   "outputs": [
    {
     "name": "stdout",
     "output_type": "stream",
     "text": [
      "\n",
      "4.1 N(3,4):\n",
      "Accept H0, pvalue = 0.9941081846144588, stats = -0.007384362626689111\n",
      "\n",
      "4.2 N(3,4) первый элемент выборки оставили тем же, остальные X_j = X_j - 2 * X_j-1 + eps, eps ~ N(0,1):\n",
      "Decline H0, pvalue = 2.220446049250313e-16, stats = -8.27460112578239\n"
     ]
    }
   ],
   "source": [
    "X = build_gauss(3, 4, 500)\n",
    "\n",
    "print('\\n4.1 N(3,4):')\n",
    "check_autocorr(X)\n",
    "\n",
    "eps = build_gauss(0,1,500)\n",
    "\n",
    "X[1:] = [X[i] - 2 * X[i-1] + eps[i] for i in range(1, len(X))]\n",
    "\n",
    "print('\\n4.2 N(3,4) первый элемент выборки оставили тем же, остальные X_j = X_j - 2 * X_j-1 + eps, eps ~ N(0,1):')\n",
    "check_autocorr(X)"
   ]
  }
 ],
 "metadata": {
  "kernelspec": {
   "display_name": "base",
   "language": "python",
   "name": "python3"
  },
  "language_info": {
   "codemirror_mode": {
    "name": "ipython",
    "version": 3
   },
   "file_extension": ".py",
   "mimetype": "text/x-python",
   "name": "python",
   "nbconvert_exporter": "python",
   "pygments_lexer": "ipython3",
   "version": "3.12.2"
  }
 },
 "nbformat": 4,
 "nbformat_minor": 5
}
