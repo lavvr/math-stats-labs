{
 "cells": [
  {
   "cell_type": "code",
   "execution_count": 242,
   "metadata": {},
   "outputs": [],
   "source": [
    "import numpy as np\n",
    "import scipy.stats as sps\n",
    "import matplotlib.pyplot as plt\n",
    "import seaborn as sns\n",
    "np.random.seed(9999)"
   ]
  },
  {
   "cell_type": "code",
   "execution_count": 243,
   "metadata": {},
   "outputs": [],
   "source": [
    "\n",
    "\n",
    "def build_gauss(mean=5,var=10,size=500):\n",
    "    return sps.norm(mean,np.sqrt(var)).rvs(size=size)"
   ]
  },
  {
   "cell_type": "code",
   "execution_count": 244,
   "metadata": {},
   "outputs": [],
   "source": [
    "# np.random.seed(33)\n",
    "x, y = np.split(build_gauss(), 2)\n",
    "def pirson_cor(x, y):\n",
    "    alpha = 0.05\n",
    "    x_center = x - np.mean(x)\n",
    "    y_center = y - np.mean(y)\n",
    "    correlation = np.sum(x_center*y_center) / np.sqrt(np.sum((x_center ** 2)) * np.sum((y_center ** 2)))\n",
    "    return correlation\n",
    "cov = pirson_cor(x,y)\n"
   ]
  },
  {
   "cell_type": "markdown",
   "metadata": {},
   "source": [
    "### 1.1 a)\n",
    "а) Сгенерировать выборку X объемом 500 величин, подчиняющихся распределению Гаусса с параметрами 5, 10 (N(5; 10))\n",
    "Разбить выборку на две равные части (X, Y). С доверительной вероятностью 0.95 (alpha = 0.05) проверить гипотезу H0 (о том, что выборочный коэф. корреляции равен 0) "
   ]
  },
  {
   "cell_type": "code",
   "execution_count": 245,
   "metadata": {},
   "outputs": [
    {
     "name": "stdout",
     "output_type": "stream",
     "text": [
      "Accept H0(ro = 0)\n",
      "Interval:(-1.6510210131759648,1.6510210131759642), t_roof = 1.4650764810836774\n"
     ]
    }
   ],
   "source": [
    "def build_student(size=500):\n",
    "    return sps.t(df=size-2).rvs(size)\n",
    "\n",
    "def check_correlation(size, alpha,cov):\n",
    "    t_roof = np.sqrt(size - 2)* cov / np.sqrt(1 - cov ** 2)\n",
    "    right = sps.t.ppf(1-alpha,df=size-2)\n",
    "    left = sps.t.ppf(alpha,df=size-2)\n",
    "\n",
    "    if left < t_roof < right:\n",
    "        print('Accept H0(ro = 0)')\n",
    "    else:\n",
    "        print('Accept H1(ro != 0)')\n",
    "    return left, right, t_roof\n",
    "\n",
    "l, r, t_r = check_correlation(250, 0.05, pirson_cor(x,y))\n",
    "print(f'Interval:({l},{r}), t_roof = {t_r}')"
   ]
  },
  {
   "cell_type": "markdown",
   "metadata": {},
   "source": [
    "### 1.1 b)\n",
    "б) то же самое, только выборку X не трогаем, оставляем объем 500, а выборка Y = 3 X - 5 + eps, eps шум стандартный Гауссовский (N(0; 1))"
   ]
  },
  {
   "cell_type": "code",
   "execution_count": 246,
   "metadata": {},
   "outputs": [
    {
     "name": "stdout",
     "output_type": "stream",
     "text": [
      "Accept H1(ro != 0)\n",
      "Interval:(-1.6479191388550005,1.6479191388549999), t_roof = 199.17146809800911\n"
     ]
    }
   ],
   "source": [
    "eps = build_gauss(0,1)\n",
    "x_b = build_gauss()\n",
    "y_b = 3 * x_b + 5 + eps\n",
    "\n",
    "l, r, t_r = check_correlation(500, 0.05, pirson_cor(x_b,y_b))\n",
    "print(f'Interval:({l},{r}), t_roof = {t_r}')\n"
   ]
  },
  {
   "cell_type": "markdown",
   "metadata": {},
   "source": [
    "### 1.2a)\n",
    "а) Сгенерировать выборку X объемом 500 величин, подчиняющихся распределению Гаусса с параметрами 5, 10 (N(5; 10))\n",
    "Разбить выборку на две равные части (X, Y). Задать величину Z = X - Y. С доверительной вероятностью 0.95 (alpha = 0.05) проверить гипотезу H0 (о том, что выборочное среднее равно 0)"
   ]
  },
  {
   "cell_type": "code",
   "execution_count": 247,
   "metadata": {},
   "outputs": [
    {
     "name": "stdout",
     "output_type": "stream",
     "text": [
      "Accept H0(mean = 0)\n",
      "Interval:(-1.6509961516772618,1.650996151677261), t_roof = -0.0869281950029112\n"
     ]
    }
   ],
   "source": [
    "gen = build_gauss()\n",
    "x,y = np.split(gen, 2)\n",
    "z = x - y\n",
    "alpha = 0.05 \n",
    "t_roof = np.sqrt(len(x) - 1) * np.mean(z) / np.std(z,ddof=1)\n",
    "right = sps.t.ppf(1-alpha,df=len(x)-1)\n",
    "left = sps.t.ppf(alpha,df=len(x)-1)\n",
    "\n",
    "if left < t_roof < right:\n",
    "    print('Accept H0(mean = 0)')\n",
    "else:\n",
    "    print('Accept H1(mean != 0)')\n",
    "\n",
    "\n",
    "print(f'Interval:({left},{right}), t_roof = {t_roof}')\n"
   ]
  },
  {
   "cell_type": "markdown",
   "metadata": {},
   "source": [
    "### 1.2 б)\n",
    "б) то же самое, только выборку X не трогаем, оставляем объем 500, а выборка Y = 3 X - 5 + eps, eps шум стандартный Гауссовский (N(0; 1))  "
   ]
  },
  {
   "cell_type": "code",
   "execution_count": 248,
   "metadata": {},
   "outputs": [
    {
     "name": "stdout",
     "output_type": "stream",
     "text": [
      "Accept H1(mean != 0)\n",
      "Interval:(-1.6479129840597067,1.647912984059706), t_roof = -55.322646572317595\n"
     ]
    }
   ],
   "source": [
    "z_b = x_b - y_b  \n",
    "\n",
    "alpha = 0.05 \n",
    "t_roof = np.sqrt(len(x_b)) * np.mean(z_b) / np.std(z_b,ddof=1)\n",
    "right = sps.t.ppf(1-alpha,df=len(x_b)-1)\n",
    "left = sps.t.ppf(alpha,df=len(x_b)-1)\n",
    "\n",
    "if left < t_roof < right:\n",
    "    print('Accept H0(mean = 0)')\n",
    "else:\n",
    "    print('Accept H1(mean != 0)')\n",
    "\n",
    "\n",
    "print(f'Interval:({left},{right}), t_roof = {t_roof}')"
   ]
  },
  {
   "cell_type": "markdown",
   "metadata": {},
   "source": [
    "### 1.3 a)\n",
    "а) Сгенерировать выборку Xn1 объемом 600 величин, подчиняющихся распределению Гаусса с параметрами 5, 10 (N(5; 10))\n",
    "Разбить выборку в соотношении 1:2 на части Xn1, Xn2. С доверительной вероятностью 0.95 (alpha = 0.05) проверить гипотезу H0 (о том, что выборочные средние равны) "
   ]
  },
  {
   "cell_type": "code",
   "execution_count": 249,
   "metadata": {},
   "outputs": [
    {
     "name": "stdout",
     "output_type": "stream",
     "text": [
      "Accept H0(mean1 == mean2)\n",
      "Interval:(-1.6474057119344716,1.647405711934471), t_roof = 0.6591634302645782\n"
     ]
    }
   ],
   "source": [
    "X_gen = build_gauss(size=600)\n",
    "X_1, X_2 = np.split(X_gen, [len(X_gen)//3])\n",
    "alpha = 0.05\n",
    "\n",
    "s_wave = np.sqrt(((len(X_1)-1)*np.var(X_1, ddof=1) + (len(X_2) - 1) * np.var(X_2, ddof=1)) / (len(X_1) + len(X_2) - 2))\n",
    "t_roof = (np.mean(X_1) - np.mean(X_2)) / (s_wave*np.sqrt(1/len(X_1) + 1/len(X_2)))\n",
    "\n",
    "def build_interval(dfr):\n",
    "    right = sps.t.ppf(1-alpha,df=dfr)\n",
    "    left = sps.t.ppf(alpha,df=dfr)\n",
    "\n",
    "    return left, right\n",
    "\n",
    "l, r = build_interval(len(X_1) + len(X_2)-2)\n",
    "if l < t_roof < r:\n",
    "    print('Accept H0(mean1 == mean2)')\n",
    "else:\n",
    "    print('Accept H1(mean1 != mean2)')\n",
    "\n",
    "\n",
    "print(f'Interval:({l},{r}), t_roof = {t_roof}')\n"
   ]
  },
  {
   "cell_type": "markdown",
   "metadata": {},
   "source": [
    "### 1.3 b)\n",
    "б) то же самое, только выборку Xn1 не трогаем, оставляем объем 600, а выборка Xn2 - генерируется объемом 500 (можно и 600, без разницы) величин, подчиняющихся распределению Гаусса с параметрами 4, 9 (N(4;9))"
   ]
  },
  {
   "cell_type": "code",
   "execution_count": 250,
   "metadata": {},
   "outputs": [
    {
     "name": "stdout",
     "output_type": "stream",
     "text": [
      "Accept H1(mean1 != mean2)\n",
      "Interval:(-1.646242573589543,1.6462425735895423), t_roof = 6.060467069978775\n"
     ]
    }
   ],
   "source": [
    "Y_gen = build_gauss(4,9)\n",
    "alpha = 0.05\n",
    "\n",
    "s_wave = np.sqrt(((len(X_gen)-1)*np.var(X_gen, ddof=1) + (len(Y_gen) - 1) * np.var(Y_gen, ddof=1)) / (len(X_gen) + len(Y_gen) - 2))\n",
    "t_roof = (np.mean(X_gen) - np.mean(Y_gen)) / (s_wave*np.sqrt(1/len(X_gen) + 1/len(Y_gen)))\n",
    "\n",
    "def build_interval(dfr):\n",
    "    right = sps.t.ppf(1-alpha,df=dfr)\n",
    "    left = sps.t.ppf(alpha,df=dfr)\n",
    "\n",
    "    return left, right\n",
    "\n",
    "l, r = build_interval(len(X_gen) + len(Y_gen)-2)\n",
    "if l < t_roof < r:\n",
    "    print('Accept H0(mean1 == mean2)')\n",
    "else:\n",
    "    print('Accept H1(mean1 != mean2)')\n",
    "\n",
    "\n",
    "print(f'Interval:({l},{r}), t_roof = {t_roof}')\n"
   ]
  },
  {
   "cell_type": "markdown",
   "metadata": {},
   "source": [
    "### 1.4 a)\n",
    "а) Сгенерировать выборку Xn1 объемом 600 величин, подчиняющихся распределению Гаусса с параметрами 5, 10 (N(5; 10))\n",
    "Разбить выборку в соотношении 1:2 на части Xn1, Xn2. С доверительной вероятностью 0.95 (alpha = 0.05) проверить гипотезу H0 (о том, что выборочные дисперсии равны) \n",
    "\n"
   ]
  },
  {
   "cell_type": "code",
   "execution_count": 251,
   "metadata": {},
   "outputs": [
    {
     "name": "stdout",
     "output_type": "stream",
     "text": [
      "Accept H0(var1 == var2)\n",
      "Interval:(0.8136446593898243,1.219333962872091), f_roof = 1.0235587638220767\n"
     ]
    }
   ],
   "source": [
    "f_roof = np.var(X_1, ddof=1) / np.var(X_2, ddof=1)\n",
    "l = sps.f.ppf(alpha, dfn=len(X_1) - 1,dfd=len(X_2)-1)\n",
    "r = sps.f.ppf(1 - alpha, dfn=len(X_1) - 1,dfd=len(X_2)-1)\n",
    "\n",
    "if l < f_roof < r:\n",
    "    print('Accept H0(var1 == var2)')\n",
    "else:\n",
    "    print('Accept H1(var1 != var2)')\n",
    "\n",
    "\n",
    "print(f'Interval:({l},{r}), f_roof = {f_roof}')\n"
   ]
  },
  {
   "cell_type": "markdown",
   "metadata": {},
   "source": [
    "### 1.4\n",
    "б) то же самое, только выборку Xn1 не трогаем, оставляем объем 600, а выборка Xn2 - генерируется объемом 500 (можно и 600, без разницы) величин, подчиняющихся распределению Гаусса с параметрами 4, 9 (N(4;9))"
   ]
  },
  {
   "cell_type": "code",
   "execution_count": 252,
   "metadata": {},
   "outputs": [
    {
     "name": "stdout",
     "output_type": "stream",
     "text": [
      "Accept H0(var1 == var2)\n",
      "Interval:(0.8688492332957122,1.1521581196277793), f_roof = 1.1010414279975624\n"
     ]
    }
   ],
   "source": [
    "f_roof = np.var(X_gen, ddof=1) / np.var(Y_gen, ddof=1)\n",
    "l = sps.f.ppf(alpha, dfn=len(X_gen) - 1,dfd=len(Y_gen)-1)\n",
    "r = sps.f.ppf(1 - alpha, dfn=len(X_gen) - 1,dfd=len(Y_gen)-1)\n",
    "\n",
    "if l < f_roof < r:\n",
    "    print('Accept H0(var1 == var2)')\n",
    "else:\n",
    "    print('Accept H1(var1 != var2)')\n",
    "\n",
    "\n",
    "print(f'Interval:({l},{r}), f_roof = {f_roof}')"
   ]
  },
  {
   "cell_type": "markdown",
   "metadata": {},
   "source": [
    "### 1.5 a)\n",
    "а) Сгенерировать выборку Xn1 объемом 600 величин, подчиняющихся распределению Бернулли с параметром p=0.5 (B(0.5))\n",
    "Разбить выборку в соотношении 1:2 на части Xn1, Xn2. С доверительной вероятностью 0.95 (alpha = 0.05) проверить гипотезу H0 (о том, что параметры p равны) "
   ]
  },
  {
   "cell_type": "code",
   "execution_count": 253,
   "metadata": {},
   "outputs": [
    {
     "name": "stdout",
     "output_type": "stream",
     "text": [
      "Accept H0(p1 == p2)\n",
      "Interval:(-1.6448536269514729,1.6448536269514722), t_roof = 0.7514953069209034\n"
     ]
    }
   ],
   "source": [
    "def build_bernulli(p=0.5,n=600):\n",
    "    return sps.bernoulli(1-p,p).rvs(size=n)\n",
    "\n",
    "B = build_bernulli()\n",
    "b_1, b_2 = np.split(B, [len(B)//3])\n",
    "\n",
    "def p_check(x,y):\n",
    "    \n",
    "    unique1, counts1 = np.unique(x, return_counts=True)\n",
    "    p_1 = counts1[1] / len(x)\n",
    "    unique, counts = np.unique(y, return_counts=True)\n",
    "    p_2 = counts[1] / len(y)\n",
    "\n",
    "    p_roof = (counts1[1] + counts[1]) / (len(x) + len(y))\n",
    "\n",
    "    t_roof = (p_1 - p_2 - 1/(2*(len(x) - len(y)))) / np.sqrt(p_roof*(1 - p_roof)*(1/len(x) + 1/len(y)))\n",
    "\n",
    "    return t_roof\n",
    "t_roof = p_check(b_1,b_2)\n",
    "r = sps.norm(0,1).ppf(1-alpha)\n",
    "l = sps.norm(0,1).ppf(alpha)\n",
    "\n",
    "if l < t_roof < r:\n",
    "    print('Accept H0(p1 == p2)')\n",
    "else:\n",
    "    print('Accept H1(p1 != p2)')\n",
    "\n",
    "\n",
    "print(f'Interval:({l},{r}), t_roof = {t_roof}')"
   ]
  },
  {
   "cell_type": "markdown",
   "metadata": {},
   "source": [
    "### 1.5 b)\n",
    "б) то же самое, только выборку Xn1 не трогаем, оставляем объем 600, а выборка Xn2 - генерируется объемом 500 (можно и 600, без разницы) величин, подчиняющихся распределению Бернулли с параметром p =0.4 (B(0.4))"
   ]
  },
  {
   "cell_type": "code",
   "execution_count": 254,
   "metadata": {},
   "outputs": [
    {
     "name": "stdout",
     "output_type": "stream",
     "text": [
      "Accept H1(p1 != p2)\n",
      "Interval:(-1.6448536269514729,1.6448536269514722), t_roof = -4.102534887224677\n"
     ]
    }
   ],
   "source": [
    "Y = build_bernulli(0.4,500)\n",
    "t_roof = p_check(B,Y)\n",
    "r = sps.norm(0,1).ppf(1-alpha)\n",
    "l = sps.norm(0,1).ppf(alpha)\n",
    "\n",
    "if l < t_roof < r:\n",
    "    print('Accept H0(p1 == p2)')\n",
    "else:\n",
    "    print('Accept H1(p1 != p2)')\n",
    "\n",
    "\n",
    "print(f'Interval:({l},{r}), t_roof = {t_roof}')"
   ]
  },
  {
   "cell_type": "markdown",
   "metadata": {},
   "source": [
    "### 2.\n",
    "Сравнить критерии Пирсона и Колмогорова для трех случаев (проверяется гипотеза H0 - распределение Гауссовское)\n",
    "а) Выборка X объема 500 величин, подчиняющихся распределению Гаусса с параметрами 3, 4 (N(3; 4))\n",
    "б) Выборка X объема 500 величин, подчиняющихся равномерному распределению на отрезке [-30; 30] (Uniform(-30; 30))\n",
    "в) Выборка X объема 500 величин, подчиняющихся распределению Коши"
   ]
  },
  {
   "cell_type": "code",
   "execution_count": 255,
   "metadata": {},
   "outputs": [],
   "source": [
    "\n",
    "def group_values(x):\n",
    "    k = 9 #np.ceil(np.log2(len(x) + 1))\n",
    "    vrt = sorted(x)\n",
    "    lq = np.percentile(x, 25)\n",
    "    uq = np.percentile(x, 75)\n",
    "    iqr = uq - lq\n",
    "\n",
    "    xl = max(vrt[0], lq - 1.5 * iqr)\n",
    "    xr = min(vrt[-1], uq + 1.5 * iqr)\n",
    "\n",
    "    wout_emmisions = [num for num in x if xl <= num <= xr]\n",
    "    x1 = np.min(wout_emmisions)\n",
    "    xn = np.max(wout_emmisions)\n",
    "    z0 = np.floor(x1)\n",
    "    zk = np.floor(xn)\n",
    "    \n",
    "    cur_len = zk - z0\n",
    "    check = cur_len % k\n",
    "\n",
    "    if check != 0:\n",
    "        delta = k - check\n",
    "        zk += delta\n",
    "\n",
    "    edges = np.linspace(z0, zk, num=k + 1)\n",
    "\n",
    "    hist, _ = np.histogram(wout_emmisions, bins=edges)\n",
    "    \n",
    "    return hist, edges, wout_emmisions\n",
    "\n"
   ]
  },
  {
   "cell_type": "code",
   "execution_count": 256,
   "metadata": {},
   "outputs": [],
   "source": [
    "def pirson(hist, edges, sample, wout_ems, params):\n",
    "    \n",
    "    P = []\n",
    "    for i in range(len(hist)):\n",
    "        left = sps.norm.cdf(edges[i], loc=np.mean(wout_ems), scale=np.std(wout_ems,ddof=1))\n",
    "        right = sps.norm.cdf(edges[i+1], loc=np.mean(wout_ems), scale=np.std(wout_ems,ddof=1))\n",
    "        P.append(right - left)\n",
    "\n",
    "\n",
    "    chi2_stat = np.sum((hist - len(sample) * np.array(P))**2 / (len(sample) * np.array(P))) \n",
    "    p_value = 1 - sps.chi2.cdf(chi2_stat, df=len(hist) - 1 - params) \n",
    "    alpha = 0.05\n",
    "    crit = sps.chi2.ppf(1-alpha, 8)\n",
    "    #print(sps.chisquare(hist))\n",
    "    \n",
    "    if chi2_stat > crit or p_value < alpha:\n",
    "        print(\"H1(Pirson)\")\n",
    "        \n",
    "    else:\n",
    "        print(\"H0(Pirson)\")\n",
    "    print(chi2_stat, crit, '\\n')\n",
    "   "
   ]
  },
  {
   "cell_type": "code",
   "execution_count": 257,
   "metadata": {},
   "outputs": [],
   "source": [
    "\n",
    "\n",
    "def kolmogorov(sample, dist_name, params=()):\n",
    " \n",
    "    result = sps.kstest(sample, dist_name, args=params)\n",
    "    alpha = 0.05\n",
    "    \n",
    "    if result.pvalue < alpha:\n",
    "        print(\"H1(Kolmogorov)\")\n",
    "    else:\n",
    "        print(\"H0(Kolmogorov)\")\n",
    "    print(result)"
   ]
  },
  {
   "cell_type": "code",
   "execution_count": 258,
   "metadata": {},
   "outputs": [
    {
     "name": "stdout",
     "output_type": "stream",
     "text": [
      "Gauss:\n",
      "H0(Pirson)\n",
      "2.8983712950521547 15.50731305586545 \n",
      "\n",
      "H0(Kolmogorov)\n",
      "KstestResult(statistic=0.024090639992991214, pvalue=0.926874433731483, statistic_location=2.9478470569479946, statistic_sign=-1)\n",
      "\n",
      "Uniform:\n",
      "H1(Pirson)\n",
      "75.04366330674408 15.50731305586545 \n",
      "\n",
      "H1(Kolmogorov)\n",
      "KstestResult(statistic=0.5, pvalue=4.1132799581816557e-116, statistic_location=-29.78766017845215, statistic_sign=-1)\n",
      "\n",
      "Cauchy:\n",
      "H1(Pirson)\n",
      "348.36081396232964 15.50731305586545 \n",
      "\n",
      "H1(Kolmogorov)\n",
      "KstestResult(statistic=0.14124086867572383, pvalue=3.641059727916206e-09, statistic_location=-0.9657082669437567, statistic_sign=1)\n"
     ]
    }
   ],
   "source": [
    "def build_uniform(a=-30,b=30,n=500):\n",
    "    return sps.uniform(a,b-a).rvs(n)\n",
    "\n",
    "def build_cauchy(shift=1, s=1):\n",
    "    return sps.cauchy(shift,s).rvs(500)\n",
    "\n",
    "\n",
    "uniform = build_uniform()\n",
    "gauss = build_gauss(3,4)\n",
    "cauchy = build_cauchy()\n",
    "\n",
    "\n",
    "print(\"Gauss:\")\n",
    "hist_g, edges_g, wout_ems_g = group_values(gauss)\n",
    "pirson(hist_g, edges_g, gauss, wout_ems_g, params=2)  \n",
    "kolmogorov(gauss, \"norm\", (np.mean(gauss), np.std(gauss, ddof=1)))\n",
    "\n",
    "print(\"\\nUniform:\")\n",
    "hist_u, edges_u, wout_ems_u = group_values(uniform)\n",
    "pirson(hist_u, edges_u, uniform, wout_ems_u, params=2) \n",
    "kolmogorov(uniform, \"norm\", (np.min(uniform), np.max(uniform) - np.min(uniform)))\n",
    "\n",
    "print(\"\\nCauchy:\")\n",
    "hist_c, edges_c, wout_ems_c = group_values(cauchy)\n",
    "pirson(hist_c, edges_c, gauss, wout_ems_g, params=2)  \n",
    "kolmogorov(cauchy, \"norm\", (np.median(cauchy), sps.iqr(cauchy) / 2)) \n",
    "\n"
   ]
  }
 ],
 "metadata": {
  "kernelspec": {
   "display_name": "base",
   "language": "python",
   "name": "python3"
  },
  "language_info": {
   "codemirror_mode": {
    "name": "ipython",
    "version": 3
   },
   "file_extension": ".py",
   "mimetype": "text/x-python",
   "name": "python",
   "nbconvert_exporter": "python",
   "pygments_lexer": "ipython3",
   "version": "3.12.7"
  }
 },
 "nbformat": 4,
 "nbformat_minor": 2
}
