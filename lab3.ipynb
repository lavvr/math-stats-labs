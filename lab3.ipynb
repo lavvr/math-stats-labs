{
 "cells": [
  {
   "cell_type": "code",
   "execution_count": null,
   "metadata": {},
   "outputs": [],
   "source": [
    "import numpy as np\n",
    "import scipy.stats as sps\n",
    "import matplotlib.pyplot as plt\n",
    "import seaborn as sns\n",
    "from sklearn.linear_model import LinearRegression\n",
    "from mpl_toolkits.mplot3d import Axes3D\n",
    "\n",
    "np.random.seed(333)\n",
    "def build_gauss(mean, var):\n",
    "    return sps.norm(mean, np.sqrt(var)).rvs(500)\n",
    "\n",
    "def build_uniform(a, b):\n",
    "    return sps.uniform(a, b - a).rvs(500)\n",
    "\n",
    "def build_cauchy(shift, s):\n",
    "    return sps.cauchy(shift,s).rvs(500)\n",
    "\n",
    "x = build_gauss(2, 5)"
   ]
  },
  {
   "cell_type": "code",
   "execution_count": null,
   "metadata": {},
   "outputs": [],
   "source": [
    "eps_gauss = build_gauss(0,30)\n",
    "eps_uniform = build_uniform(-30, 30)\n",
    "eps_cauchy = build_cauchy(0,4)\n",
    "\n",
    "y_gauss = 4 * x - 10 + eps_gauss\n",
    "y_uniform = 4 * x - 10 + eps_uniform\n",
    "y_cauchy = 4 * x - 10 + eps_cauchy\n",
    "print(\"Gauss: \", y_gauss)\n",
    "print(\"Uniform: \", y_uniform)\n",
    "print(\"Cauchy: \", y_cauchy)"
   ]
  },
  {
   "cell_type": "code",
   "execution_count": null,
   "metadata": {},
   "outputs": [],
   "source": [
    "fig, axes = plt.subplots(1, 3, figsize=(15, 5))\n",
    "axes[0].scatter(x,y_gauss)\n",
    "axes[1].scatter(x,y_uniform)\n",
    "axes[2].scatter(x,y_cauchy)"
   ]
  },
  {
   "cell_type": "markdown",
   "metadata": {},
   "source": [
    "# Одномерная регрессия коэффициенты"
   ]
  },
  {
   "cell_type": "code",
   "execution_count": null,
   "metadata": {},
   "outputs": [],
   "source": [
    "new_x = x.reshape(-1,1)\n",
    "\n",
    "def fit_linear_regression(x,y):\n",
    "    model = LinearRegression().fit(x,y)\n",
    "    return model.coef_[0], model.intercept_\n",
    "\n",
    "coeffs_gauss = fit_linear_regression(new_x, y_gauss)\n",
    "coeffs_uniform = fit_linear_regression(new_x, y_uniform)\n",
    "coeffs_cauchy = fit_linear_regression(new_x, y_cauchy)\n",
    "print(\"Coeffs:\")\n",
    "print(coeffs_gauss, '(Gauss)')\n",
    "print(coeffs_uniform, '(Uniform)')\n",
    "print(coeffs_cauchy, '(Cauchy)')"
   ]
  },
  {
   "cell_type": "markdown",
   "metadata": {},
   "source": [
    "# Графики для одномерной регрессии"
   ]
  },
  {
   "cell_type": "code",
   "execution_count": null,
   "metadata": {},
   "outputs": [],
   "source": [
    "plt.figure(figsize=(10, 6))\n",
    "sns.scatterplot(x=x, y=y_gauss, c ='green', label='Data')\n",
    "sns.lineplot(x=x, y=coeffs_gauss[0]*x + coeffs_gauss[1], color='black', label='Regression')\n",
    "plt.title(\"Linear Regression (gauss noise)\")\n",
    "plt.xlabel(\"X\")\n",
    "plt.ylabel(\"Y\")\n",
    "plt.legend()\n",
    "\n",
    "plt.figure(figsize=(10, 6))\n",
    "sns.scatterplot(x=x, y=y_uniform, c ='green', label='Data')\n",
    "sns.lineplot(x=x, y=coeffs_uniform[0]*x + coeffs_uniform[1], color='black', label='Regression')\n",
    "plt.title(\"Linear Regression (uniform noise)\")\n",
    "plt.xlabel(\"X\")\n",
    "plt.ylabel(\"Y\")\n",
    "plt.legend()\n",
    "\n",
    "plt.figure(figsize=(10, 6))\n",
    "sns.scatterplot(x=x, y=y_cauchy, c ='green', label='Data')\n",
    "sns.lineplot(x=x, y=coeffs_cauchy[0]*x + coeffs_cauchy[1], color='black', label='Regression')\n",
    "plt.title(\"Linear Regression (cauchy noise)\")\n",
    "plt.xlabel(\"X\")\n",
    "plt.ylabel(\"Y\")\n",
    "plt.legend()\n",
    "plt.show()"
   ]
  },
  {
   "cell_type": "code",
   "execution_count": null,
   "metadata": {},
   "outputs": [],
   "source": [
    "x1 = build_gauss(6, 25)\n",
    "x2 = build_gauss(5, 36)\n",
    "\n",
    "y_gauss3d = 5 * x1 - 3 * x2 + 11 + eps_gauss\n",
    "y_uniform3d = 5 * x1 - 3 * x2 + 11 + eps_uniform\n",
    "y_cauchy3d = 5 * x1 - 3 * x2 + 11 + eps_cauchy\n",
    "\n",
    "X = np.column_stack((x1, x2))\n",
    "\n",
    "#print(\"Gauss: \", y_gauss3d)\n",
    "#print(\"Uniform: \", y_uniform3d)\n",
    "#print(\"Cauchy: \", y_cauchy3d)\n"
   ]
  },
  {
   "cell_type": "code",
   "execution_count": null,
   "metadata": {},
   "outputs": [],
   "source": [
    "fig = plt.figure(figsize=(18, 6))\n",
    "\n",
    "ax1 = fig.add_subplot(131, projection='3d')\n",
    "ax1.scatter(x1, x2, y_gauss3d, c='green', marker='o', alpha=0.6, label='gaussian noise')\n",
    "ax1.set_xlabel('x1')\n",
    "ax1.set_ylabel('x2')\n",
    "ax1.set_zlabel('y')\n",
    "ax1.set_title('gauss')\n",
    "ax1.legend()\n",
    "\n",
    "ax2 = fig.add_subplot(132, projection='3d')\n",
    "ax2.scatter(x1, x2, y_uniform3d, c='green', marker='^', alpha=0.6, label='uniform noise')\n",
    "ax2.set_xlabel('x1')\n",
    "ax2.set_ylabel('x2')\n",
    "ax2.set_zlabel('y')\n",
    "ax2.set_title('uniform')\n",
    "ax2.legend()\n",
    "\n",
    "ax3 = fig.add_subplot(133, projection='3d')\n",
    "ax3.scatter(x1, x2, y_cauchy3d, c='green', marker='s', alpha=0.6, label='cauchy noise')\n",
    "ax3.set_xlabel('x1')\n",
    "ax3.set_ylabel('x2')\n",
    "ax3.set_zlabel('y')\n",
    "ax3.set_title('cauchy')\n",
    "ax3.legend()\n",
    "\n",
    "plt.tight_layout()\n",
    "plt.show()"
   ]
  },
  {
   "cell_type": "markdown",
   "metadata": {},
   "source": [
    "# Коэффициенты для многомерной регрессии"
   ]
  },
  {
   "cell_type": "code",
   "execution_count": null,
   "metadata": {},
   "outputs": [],
   "source": [
    "def train_multidimensional(x, y):\n",
    "    model = LinearRegression().fit(x,y)\n",
    "    return model.coef_[0], model.coef_[1], model.intercept_\n",
    "\n",
    "coeffs_gauss3d = train_multidimensional(X, y_gauss3d)\n",
    "coeffs_uniform3d = train_multidimensional(X, y_uniform3d)\n",
    "coeffs_cauchy3d = train_multidimensional(X, y_cauchy3d)\n",
    "\n",
    "print(\"Coeffs:\")\n",
    "print(coeffs_gauss3d, '(Gauss)')\n",
    "print(coeffs_uniform3d, '(Uniform)')\n",
    "print(coeffs_cauchy3d, '(Cauchy)')"
   ]
  },
  {
   "cell_type": "code",
   "execution_count": null,
   "metadata": {},
   "outputs": [],
   "source": [
    "def calc_coeffs(x, y):\n",
    "    cov_xy = np.cov(x, y, ddof=0)[0, 1] \n",
    "    var_x = np.var(x, ddof=0)\n",
    "    a = cov_xy / var_x\n",
    "    b = np.mean(y) - a * np.mean(x)\n",
    "    return a, b\n",
    "\n",
    "coeff_ag, coeff_bg = calc_coeffs(x, y_gauss)\n",
    "coeff_au, coeff_bu = calc_coeffs(x, y_uniform)\n",
    "coeff_ac, coeff_bc = calc_coeffs(x, y_cauchy)\n",
    "# print(coeff_ag, coeff_bg)\n",
    "# print(coeff_au, coeff_bu)\n",
    "# print(coeff_ac, coeff_bc)\n",
    "# plt.figure(figsize=(10, 6))\n",
    "# sns.scatterplot(x=x, y=y_gauss, c ='green', label='Data')\n",
    "# sns.lineplot(x=x, y=coeff_ag*x + coeff_bg, color='black', label='Regression')\n",
    "# plt.title(\"Linear Regression (gauss noise)\")\n",
    "# plt.xlabel(\"X\")\n",
    "# plt.ylabel(\"Y\")\n",
    "# plt.legend()\n",
    "\n",
    "# plt.figure(figsize=(10, 6))\n",
    "# sns.scatterplot(x=x, y=y_uniform, c ='green', label='Data')\n",
    "# sns.lineplot(x=x, y=coeff_au*x + coeff_bu, color='black', label='Regression')\n",
    "# plt.title(\"Linear Regression (uniform noise)\")\n",
    "# plt.xlabel(\"X\")\n",
    "# plt.ylabel(\"Y\")\n",
    "# plt.legend()\n",
    "\n",
    "# plt.figure(figsize=(10, 6))\n",
    "# sns.scatterplot(x=x, y=y_cauchy, c ='green', label='Data')\n",
    "# sns.lineplot(x=x, y=coeff_ac*x + coeff_bc, color='black', label='Regression')\n",
    "# plt.title(\"Linear Regression (cauchy noise)\")\n",
    "# plt.xlabel(\"X\")\n",
    "# plt.ylabel(\"Y\")\n",
    "# plt.legend()\n",
    "# plt.show()\n"
   ]
  },
  {
   "cell_type": "markdown",
   "metadata": {},
   "source": [
    "# Графики для многомерной регрессии"
   ]
  },
  {
   "cell_type": "code",
   "execution_count": null,
   "metadata": {},
   "outputs": [],
   "source": [
    "import plotly.graph_objects as go\n",
    "import plotly.express as px\n",
    "\n",
    "def plot_3d(x1, x2, y, coeffs, name):\n",
    "    fig = go.Figure()\n",
    "\n",
    "    fig.add_traces(go.Scatter3d(x=x1,y=x2,z=y,mode='markers', marker=dict(size=7,color='green', opacity=0.9)))\n",
    "#af290c\n",
    "    x1_grid, x2_grid = np.meshgrid(\n",
    "    np.linspace(x1.min(), x1.max(), 20),\n",
    "    np.linspace(x2.min(), x2.max(), 20)\n",
    "    )\n",
    "    y_grid = coeffs[2] + coeffs[0] * x1_grid + coeffs[1] * x2_grid\n",
    "\n",
    "    fig.add_trace(\n",
    "        go.Surface(\n",
    "            x=x1_grid,\n",
    "            y=x2_grid,\n",
    "            z=y_grid,\n",
    "\n",
    "            colorscale='greys',\n",
    "            opacity=0.5,\n",
    "            name=\"Регрессия\"\n",
    "        )\n",
    "    )\n",
    "\n",
    "\n",
    "    fig.update_layout(\n",
    "        title=name,\n",
    "        scene=dict(\n",
    "            xaxis_title=\"x1\",\n",
    "            yaxis_title=\"x2\",\n",
    "            zaxis_title=\"y\",\n",
    "            camera=dict(eye=dict(x=1.5, y=1.5, z=0.5)) \n",
    "        ),\n",
    "        margin=dict(l=0, r=0, b=0, t=30),\n",
    "        legend=dict(x=0.8, y=0.9)\n",
    "    )\n",
    "    fig.show()\n",
    "\n",
    "plot_3d(x1, x2, y_gauss3d, coeffs_gauss3d, \"Regression(gauss noise)\")\n",
    "plot_3d(x1, x2, y_uniform3d, coeffs_uniform3d, \"Regression(uniform noise)\")\n",
    "plot_3d(x1, x2, y_cauchy3d, coeffs_cauchy3d, \"Regression(cauchy noise)\")\n",
    "print(px.colors.named_colorscales())"
   ]
  },
  {
   "cell_type": "code",
   "execution_count": null,
   "metadata": {},
   "outputs": [],
   "source": []
  }
 ],
 "metadata": {
  "kernelspec": {
   "display_name": "base",
   "language": "python",
   "name": "python3"
  },
  "language_info": {
   "codemirror_mode": {
    "name": "ipython",
    "version": 3
   },
   "file_extension": ".py",
   "mimetype": "text/x-python",
   "name": "python",
   "nbconvert_exporter": "python",
   "pygments_lexer": "ipython3",
   "version": "3.12.7"
  }
 },
 "nbformat": 4,
 "nbformat_minor": 2
}
